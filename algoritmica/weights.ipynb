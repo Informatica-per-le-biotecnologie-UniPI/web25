{
 "cells": [
  {
   "cell_type": "markdown",
   "id": "f0de6144-0ce2-47a9-8369-05f2651cbbe0",
   "metadata": {},
   "source": [
    "# Notebooks\n",
    "\n",
    "Questi notebook sono un misto di blocchi detti *celle*. Una cella contiene di testo (come questa) o codice Python (come il blocco sotto). Per eseguire un blocco di codice puoi:\n",
    "- selezionarlo e premere il bottone Play (al suo fianco, o nella barra in alto)\n",
    "- selezionarlo e premere `Ctrl + Enter`\n",
    "\n",
    "Prova con il blocco qui sotto! Se stampa \"Welcome to Python!\""
   ]
  },
  {
   "cell_type": "code",
   "execution_count": 1,
   "id": "14179db5-9795-41d3-bfee-3b669ec8bf83",
   "metadata": {},
   "outputs": [
    {
     "name": "stdout",
     "output_type": "stream",
     "text": [
      "Welcome to Python!\n"
     ]
    }
   ],
   "source": [
    "# 0.0\n",
    "print(\"Welcome to Python!\")"
   ]
  },
  {
   "cell_type": "markdown",
   "id": "3aaccde7-f095-45f1-a80b-da1810e3ad9c",
   "metadata": {},
   "source": [
    "Una volta eseguito, dovresti trovare la scritta `Welcome to Python!` subito sotto il blocco. Ora al suo fianco dovresti trovare anche un numero che indica l'ordine in cui hai eseguito quel blocco di codice. Se ora provi a ri-eseguirlo, vedrai che il numero a suo fianco cambiera'!\n",
    "Prova a sostituire il testo tra `\"` aggiungendo il tuo nome, e ri-esegui. Vedrai che la stringa stampata si aggiorna!\n",
    "\n",
    "\n",
    "Nelle celle successive non e' necessario comprendere il codice Python scritto (lo tratteremo durante il corso), ma cerca di seguire il notebook per familiarizzarti con il codice, e a modificare un pochino per vedere come si comporta. Dal menu' visualizza abilita i numeri di righe, li usiamo per indicare parti specifiche del codice. A inizio blocco troverai anche dei numeri, e.g.,\n",
    "\n",
    "```#1.0```\n",
    "\n",
    "Li useremo per far riferimento a blocchi specifici. Il blocco sopra e' il blocco `0.0`"
   ]
  },
  {
   "cell_type": "markdown",
   "id": "2126ab50-a4a3-4821-9eb3-d87d0c8f6cb5",
   "metadata": {},
   "source": [
    "---"
   ]
  },
  {
   "cell_type": "markdown",
   "id": "35f5bbee-d8ae-4710-a49f-b2f6b5d3e468",
   "metadata": {},
   "source": [
    "# Le (false) monete\n",
    "\n",
    "Il problema delle monete consiste nel trovare, in un insieme di oggetti di un uguale peso, quello, se presente, di peso minore rispetto agli altri. Si hanno a disposizione:\n",
    "- una bilancia\n",
    "- gli oggetti oggetti\n",
    "\n",
    "Introduciamo sotto diversi programmi per trovare \"l'intruso\" tra `n = 10` oggetti. Prima pero' eseguiamo un blocco per definire i pesi degli oggetti."
   ]
  },
  {
   "cell_type": "code",
   "execution_count": 3,
   "id": "3a0518ba-72ee-47a1-ab89-7abef0d97cf2",
   "metadata": {},
   "outputs": [
    {
     "name": "stdout",
     "output_type": "stream",
     "text": [
      "[0.1, 0.1, 0.1, 0.2, 0.1, 0.1, 0.1, 0.1, 0.1, 0.1]\n"
     ]
    }
   ],
   "source": [
    "# 1.0\n",
    "weights = [0.1] * 10\n",
    "weights[3] = 0.2\n",
    "\n",
    "print(weights)"
   ]
  },
  {
   "cell_type": "markdown",
   "id": "cd20bc6c-e481-450f-b883-de80b7dba688",
   "metadata": {},
   "source": [
    "Ora abbiamo i pesi (`weights`) di 10 oggetti. Pesano tutte `0.1`, tranne il quarto, che pesa `0.2`.\n",
    "\n",
    "Nel blocco sopra prova a:\n",
    "- sostituire `10` con un altro numero (riga 1), e ri-eseguire: cosa succede?\n",
    "- sostituire `10` con un altro numero (riga 1) negativo, e ri-eseguire: cosa succede?\n",
    "- sostituire `0.1` con un altro numero (riga 1), e ri-eseguire: cosa succede?\n",
    "- sostituire `0.2` con un altro numero (riga 2), e ri-eseguire: cosa succede?\n",
    "\n",
    "Dopo ricorda di ripristinare il codice com'era all'inizio!"
   ]
  },
  {
   "cell_type": "markdown",
   "id": "c195c38f-7d45-45f1-81dd-dd55b9fd71f2",
   "metadata": {},
   "source": [
    "### Full search"
   ]
  },
  {
   "cell_type": "markdown",
   "id": "5dc28cde-9c92-4c4b-bab3-65f87785a411",
   "metadata": {},
   "source": [
    "Se abbiamo a disposizione il peso corretto `w` degli oggetti, un algoritmo triviale (*Full search*) sarebbe:\n",
    "\n",
    "\n",
    "**Full search**\n",
    "1. Prendi un oggetto `o` che non hai gia' preso\n",
    "2. Se il peso `w_o` di `o` e' diverso da `w`, hai trovato l'intruso!\n",
    "3. Altrimenti, torna al passo `1`\n",
    "\n",
    "L'algoritmo e' corretto, ma ci richiede, nel caso pessimo in cui l'oggetto con peso diverso e' l'ultimo che prendiamo, di pesare ogni singolo oggetto separatamente per un totale di `n` pesate. Qui sotto trovi un blocco di codice che implementa questo algoritmo. Ogni volta che pesa ci da una piccola notifica. Prova a eseguirlo!"
   ]
  },
  {
   "cell_type": "code",
   "execution_count": 7,
   "id": "33a90991-5fd0-4ca1-bfec-a464adc64fb3",
   "metadata": {},
   "outputs": [
    {
     "name": "stdout",
     "output_type": "stream",
     "text": [
      "10000000\n",
      "CPU times: user 579 ms, sys: 0 ns, total: 579 ms\n",
      "Wall time: 579 ms\n"
     ]
    }
   ],
   "source": [
    "# 1.1\n",
    "def full_search(weights: list, base_weight: float) -> int:    \n",
    "    for object_index, weight in enumerate(weights):\n",
    "        # print(\"Pesando...\")\n",
    "        if weight != base_weight:\n",
    "            return object_index + 1\n",
    "    \n",
    "    return -1\n",
    "\n",
    "# definisci pesi\n",
    "weights = [0.1] * 10000000\n",
    "weights[len(weights) - 1] = 0.2\n",
    "\n",
    "# trova intruso\n",
    "%time print(full_search(weights, 0.1))"
   ]
  },
  {
   "cell_type": "markdown",
   "id": "617303f8-35ec-4b67-b9be-52fe7fcd9c7d",
   "metadata": {},
   "source": [
    "Il codice ci dice, correttamente, che l'oggetto incriminato si trova in quarta posizione! Nota che l'algoritmo ha pesato `4` volte, una per ogni oggetto che precedeva l'intruso.\n",
    "Trovi, sotto la posizione, anche il tempo di esecuzione dell'algoritmo. Non si tratta della sua complessita', ma per semplificare, le due sono correlate.\n",
    "\n",
    "Modifica il blocco `1.1` e ri-eseguilo\n",
    "- metti l'intruso alla posizione `7` (sostituisci `3` con `7` alla riga `12`)\n",
    "- metti l'intruso alla posizione `1` (sostituisci `3` con `0` alla riga `12`)\n",
    "- togli l'intruso: cancella la riga `12`\n",
    "- incrementa il numero di oggetti: sostituisci `10` (riga `11`) e `3` (riga `12`) con altri numeri, con il secondo molto vicino al primo. E.g., prova `100` e `99`, `1000` e `999`, etc. scalando di un ordine di grandezza alla volta. Segna anche i tempi di esecuzione che ti vengono dati. Cosa noti?"
   ]
  },
  {
   "cell_type": "markdown",
   "id": "5f10afd2-054e-4e94-aa0a-d6859f86ef2d",
   "metadata": {},
   "source": [
    "### Tree search\n",
    "\n",
    "Sempre assumendo che ci sia un'unico oggetto di peso minore, possiamo migliorare *Full search* con alcune semplici osservazioni:\n",
    "1. la bilancia ci permette di pesare piu' oggetti alla volta\n",
    "2. due insiemi `S1`, `S2`, entrambi di `k` oggetti, tutti dello stesso peso, hanno lo stesso peso\n",
    "3. due insiemi `S1`, `S2`, entrambi di `k` oggetti, in cui un oggetto in `S1` o `S2` ha peso diverso, hanno peso diverso\n",
    "\n",
    "L'osservazione `2` e' triviale: avendo `k` oggetti di peso `w`, `S1` ha peso $\\sum_{i = 1}^k w = wk$, e lo stesso vale per `S2`.\n",
    "L'osservazione `3` segue la stessa falsariga: assumendo che l'oggetto di peso minore sia in `S2`, abbiamo `S1` con peso $\\sum_{i = 1}^k w = wk$, e `S2` con peso $w_o + \\sum_{i = 1}^{k - 1} w = w_0 + (w - 1)k < w k$.\n",
    "L'osservazione `3` ci dice quindi che, dati due insiemi (della stessa cardinalita' `k`) `S1, S2`, possiamo trovare l'insieme contenente l'oggetto intruso con due pesate, a prescindere da `k`.\n",
    "Ossia, **non abbiamo bisogno di pesare singolarmente tutti gli oggetti**!\n",
    "Per semplicita', possiamo considerare una bilancia classica a due braccia, che dati due insiemi ci indica il piu' leggero, se esiste, permettendoci di fare una singola pesata per confrontare due insiemi.\n",
    "\n",
    "\n",
    "Possiamo sfruttare questa osservazione per creare un altro algoritmo di ricerca, *Tree search*.\n",
    "\n",
    "**Tree search**\n",
    "1. Dividi equamente gli oggetti a disposizione `S` in `S_A, S_B`\n",
    "2. Se `S_A` e `S_B` hanno solo un oggetto, allora hai la soluzione! Termina\n",
    "3. Altrimenti, confronta i pesi di `S_A` e `S_B`\n",
    "4. Se `S_A` pesa meno, l'oggetto leggero si trova in `S_A`! Cercalo in `S_A` tornando al passo uno, considerando `S` come `S_A`\n",
    "5. Se `S_B` pesa meno, l'oggetto leggero si trova in `S_B`! Cercalo in `S_B` tornando al passo uno, considerando `S` come `S_B`\n",
    "\n",
    "\n",
    "Per il passo `1`, *Tree search* inizia a pesare tutti e `n` gli oggetti con una singola pesata: `n/2` sono in `S_A`, e `n/2` in `S_B`.\n",
    "Nota che, a prescindere da quale sia l'insieme piu' leggero, la ricerca continua solo su uno dei due sottoinsiemi, il piu' leggero.\n",
    "Abbiamo, con una singola pesata, eliminato meta' degli oggetti!\n",
    "Questo e' un grande miglioramento rispetto a *Full search*, in cui per eliminare un singolo oggetto dovevamo pesarlo singolarmente.\n",
    "L'algoritmo continua a cercare nel sottoinsieme piu' leggero.\n",
    "Tale insieme avra' solo `k = n/2` elementi, pertanto verra' suddiviso (passo `1`) in due sottoinsiemi di `k = (n/2) / 2 = n/4` elementi.\n",
    "Il processo si ripetera' considerando poi `k = (n/4) / 2 = n/8`, `k = (n/8) / 2 = n/16`, `...` fino a raggiungere `k = 1`.\n",
    "Questo processo, che porta `k` a `1` dimezzando di iterazione in iterazione `n`, compira' un numero di passi *logaritmico*, e non *lineare* in `n`.\n",
    "\n",
    "\n",
    "Il blocco sottostante esegue *Full search* e *Tree search*, e stampa i tempi di esecuzione.\n",
    "Come nel blocco precedente, prova a far crescere `n` (e di pari passo la posizione dell'oggetto leggero), e segna i tempi di completamento.\n"
   ]
  },
  {
   "cell_type": "code",
   "execution_count": 10,
   "id": "d1189b39-627c-45b1-a1c4-edcc5fad381a",
   "metadata": {},
   "outputs": [
    {
     "name": "stdout",
     "output_type": "stream",
     "text": [
      "Tree search\n",
      "100000000\n",
      "CPU times: user 3.74 s, sys: 761 ms, total: 4.51 s\n",
      "Wall time: 4.49 s\n",
      "Full search\n",
      "100000000\n",
      "CPU times: user 5.22 s, sys: 1.27 ms, total: 5.22 s\n",
      "Wall time: 5.22 s\n"
     ]
    }
   ],
   "source": [
    "#1.2\n",
    "def compare_weights(set_A: list, set_B: list) -> int:\n",
    "    if sum(set_A) == sum(set_B):\n",
    "        return 0\n",
    "\n",
    "    elif sum(set_A) > sum(set_B):\n",
    "        return -1\n",
    "\n",
    "    elif sum(set_B) > sum(set_A):\n",
    "        return +1\n",
    "\n",
    "def recursive_tree_search(weights: list, start: int, end: int) -> int:\n",
    "    if len(weights) == 2:\n",
    "        if weights[0] > weights[1]:\n",
    "            return end\n",
    "        else:\n",
    "            return start\n",
    "    \n",
    "    midpoint = int(len(weights) / 2)\n",
    "    set_A = weights[:midpoint]\n",
    "    set_B = weights[midpoint:]\n",
    "    \n",
    "    if sum(set_A) > sum(set_B):\n",
    "        return recursive_tree_search(set_B, midpoint, end)\n",
    "    else:\n",
    "        return recursive_tree_search(set_A, start, midpoint)\n",
    "\n",
    "\n",
    "def tree_search(weights: list) -> int:\n",
    "    return recursive_tree_search(weights, 0, len(weights))\n",
    "\n",
    "\n",
    "# definisci pesi\n",
    "weights = [0.1] * 100\n",
    "weights[len(weights) - 1] = 0.2\n",
    "\n",
    "# trova intruso\n",
    "print(\"Tree search\")\n",
    "%time print(tree_search(weights))\n",
    "\n",
    "print(\"Full search\")\n",
    "%time print(full_search(weights, 0.1))"
   ]
  },
  {
   "cell_type": "markdown",
   "id": "b10cfa78-ef75-4c8c-96de-c568890ce6dd",
   "metadata": {},
   "source": [
    "---\n",
    "\n",
    "## Complessita'\n",
    "\n",
    "Per varie ottimizzazioni di Python, e semplicita' dell'esempio, non riusciamo a visualizzare direttamente cosi' vistosamente la differenza tra algoritmi lineari e logaritmici.\n",
    "[Wolframalpha](https://www.wolframalpha.com/) offre diversi tool computazionali online, [qui](https://www.wolframalpha.com/input?i=plot+y+%3D+x++for+x+in+%5B0%2C+10%5D%2C+plot+y+%3D+x%5E2++for+x+in+%5B0%2C+10%5D%2C+plot+y+%3D+log%28x%29+for+x+in+%5B0%2C+10%5D) puoi trovare la crescita di funzioni lineari, logaritmiche, e esponenziali al crescere di `n`.\n",
    "Gia' con un `n` piccolo la differenza e' abissale!\n",
    "\n",
    "---\n",
    "\n",
    "### Bonus: `Python`\n",
    "\n",
    "Nelle celle sopra trovi diversi dei costrutti principali di Python:\n",
    "- valori: come in algebra, sono i valori base, e.g., numeri interi (`100, 1, 2`), numeri reali (`0.2, 0.1`), stringhe (`\"Hello, Python\", \"Full search\"`), liste di valori (`[0.1, 0.1, 0.2, 0.1]`)\n",
    "- espressioni: combinano valori e/o variabili diversi in un unico valore, e.g., `0.1 + 0.1` risulta in `0.2`, `1 > 0` risulta in `vero`. La combinazione avviene mediante operatori, e.g., `+`, `-`, `/`\n",
    "- variabili: salvano dei valori, dando loro dei nomi, e.g., `weights`. Il salvataggio avviene con l'operatore `=`\n",
    "- funzioni: creano piccoli programmi parametrizzati che possiamo riutilizzare, anche con parametri diversi, e.g., `compare_weights`, `tree_search`. Sono definite in righe che iniziano con `def`, e poi utilizzate con il loro nome, e i parametri tra parentesi, e.g., `print(\"Hello, Python!\")`. Solitamente calcolano un qualche valore sulla base dei parametri, e.g., dato il raggio come parametro, calcolano la circonferenza di un cerchio. In questo caso il valore calcolato viene preceduto da un `return`\n",
    "- commenti: iniziano con un `#`, non fanno nulla, ma possiamo utilizzarli per spiegare cosa stiamo facendo nel codice\n",
    "\n",
    "\n",
    "Nei blocchi precedenti, prova a trovare tutti i valori, e tutte le variabili e funzioni."
   ]
  }
 ],
 "metadata": {
  "kernelspec": {
   "display_name": "Python 3 (ipykernel)",
   "language": "python",
   "name": "python3"
  },
  "language_info": {
   "codemirror_mode": {
    "name": "ipython",
    "version": 3
   },
   "file_extension": ".py",
   "mimetype": "text/x-python",
   "name": "python",
   "nbconvert_exporter": "python",
   "pygments_lexer": "ipython3",
   "version": "3.13.1"
  }
 },
 "nbformat": 4,
 "nbformat_minor": 5
}
