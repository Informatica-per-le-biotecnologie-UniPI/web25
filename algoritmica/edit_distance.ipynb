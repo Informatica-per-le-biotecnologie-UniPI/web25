{
 "cells": [
  {
   "cell_type": "markdown",
   "id": "20ac1304-3dd4-4dc5-b612-4a118d459887",
   "metadata": {},
   "source": [
    "# Notebooks\n",
    "\n",
    "Questi notebook sono un misto di blocchi detti *celle*. Una cella contiene di testo (come questa) o codice Python (come il blocco sotto). Per eseguire un blocco di codice puoi:\n",
    "- selezionarlo e premere il bottone Play (al suo fianco, o nella barra in alto)\n",
    "- selezionarlo e premere `Ctrl + Enter`\n",
    "\n",
    "Prova con il blocco qui sotto! Se stampa \"Welcome to Python!\""
   ]
  },
  {
   "cell_type": "code",
   "execution_count": 1,
   "id": "dec8752c-a899-496d-9984-27f52ee8b6e9",
   "metadata": {},
   "outputs": [
    {
     "name": "stdout",
     "output_type": "stream",
     "text": [
      "Welcome to Python!\n"
     ]
    }
   ],
   "source": [
    "# 0.0\n",
    "print(\"Welcome to Python!\")"
   ]
  },
  {
   "cell_type": "markdown",
   "id": "5c27bd1b-04e4-4911-adab-fee82c745b9b",
   "metadata": {},
   "source": [
    "Una volta eseguito, dovresti trovare la scritta `Welcome to Python!` subito sotto il blocco. Ora al suo fianco dovresti trovare anche un numero che indica l'ordine in cui hai eseguito quel blocco di codice. Se ora provi a ri-eseguirlo, vedrai che il numero a suo fianco cambiera'!\n",
    "Prova a sostituire il testo tra `\"` aggiungendo il tuo nome, e ri-esegui. Vedrai che la stringa stampata si aggiorna!\n",
    "\n",
    "\n",
    "Nelle celle successive non e' necessario comprendere il codice Python scritto (lo tratteremo durante il corso), ma cerca di seguire il notebook per familiarizzarti con il codice, e a modificare un pochino per vedere come si comporta. Dal menu' visualizza abilita i numeri di righe, li usiamo per indicare parti specifiche del codice. A inizio blocco troverai anche dei numeri, e.g.,\n",
    "\n",
    "```#1.0```\n",
    "\n",
    "Li useremo per far riferimento a blocchi specifici. Il blocco sopra e' il blocco `0.0`\n",
    "\n",
    "---"
   ]
  },
  {
   "cell_type": "markdown",
   "id": "0534d1a7-6ba0-418c-b76f-9489ed626ddd",
   "metadata": {},
   "source": [
    "# Edit distance e allineamento\n",
    "\n",
    "L'allineamento tra due stringhe prevede il *matching* tra lettere delle due stringhe, e introduce due casi particolari:\n",
    "- inserimento: assume una lettera mancante\n",
    "- cancellazione: assume una lettera di troppo\n",
    "\n",
    "Tra tutti i possibili matching validi, cerchiamo solitamente quello che prevede un numero minimo di inserimenti/cancellazioni, ossia il matching a costo minore.\n",
    "Il costo e' definito come *edit distance*, ossia \"distanza di modifica\", e quantifica quante operazioni di inserimento/cancellazione/sostituzione dovremmo fare per trasformare una stringa in un'altra.\n",
    "\n",
    "## Edit distance: straight alignment\n",
    "Partiamo da due stringhe `s_A, s_B` di lunghezza $m, n$, rispettivamente, di cui indichiamo l'`i`-esimo carattere con `s_A[i]` e `s_B[i]`, rispettivamente.\n",
    "Una distanza triviale, che non considera inserimenti e cancellazioni, considera semplicemente il numero di caratteri diversi nella stessa posizione: confrontiamo `s_A[i]` con `s_B[i]`.\n",
    "Stiamo cercando un allineamento diretto (*straight match*).\n",
    "\n",
    "Possiamo visualizzare questo allineamento in forma tabellare:\n",
    "\n",
    "|  `i`  | 0   | 1   | 2   | 3   | 4   |\n",
    "| ----- | --- | --- | --- | --- | --- |\n",
    "| `s_A` | A   | C   | G   | T   |     |\n",
    "| `s_B` | A   | A   | C   | G   | T   |\n",
    "| `d`   | 0   | 1   | 1   | 1   | 1   |\n",
    "\n",
    "Qui confrontiamo `ACGT` e `AACGT`, indicando nell'ultima riga la distanza (`d`) carattere per carattere: `0` per caratteri uguali, e `1` altrimenti.\n",
    "La distanza (il numero di caratteri diversi) e' semplicemente la somma sulla riga `d`: `4`.\n",
    "\n",
    "Questo allineamento -- detto *straight match* -- deve il suo nome al fatto che stiamo considerando confronti su una stessa colonna.\n",
    "\n",
    "\n",
    "### Edit distance: oblique match\n",
    "\n",
    "Lo straight match ignora inserimenti e cancellazioni, ma fornisce una soluzione basilare cui possiamo ricondurre un match con inserimenti/cancellazioni.\n",
    "Quando simuliamo inserimenti/cancellazioni, stiamo confrontando `s_A[i]` con `s_B[j]`.\n",
    "Se `j > i` stiamo confrontando un carattere in `s_A` con uno piu' avanti in `s_B`.\n",
    "Se invece `j < i` stiamo confrontando un carattere in `s_A` con uno piu' indietro in `s_B`.\n",
    "In altre parole, confrontando `s_A[i]` con `s_B[j]`, stiamo simulando inserimenti/cancellazioni.\n",
    "\n",
    "\n",
    "Un inserimento sposta in avanti i caratteri successivi, mentre una cancellazione li tira indietro.\n",
    "Visivamente, quando consideriamo `j > i` stiamo \"spingendo\" `s_A[i]` in avanti nella stringa, e quindi simulando degli inserimenti in `s_A`.\n",
    "Se invece consideriamo `j < i` stiamo \"tirando\" `s_A[i]` indietro nella stringa, e quindi simulando delle cancellazioni in `s_B`.\n",
    "Questo \"spingi e tira\" puo' essere implementato con l'aggiunta di caratteri vuoti, detti dash (`-`), che \"spingono\" i caratteri successivi in avanti.\n",
    "Aggiungere un carattere in `ACGT` -- ignorando inserimenti a inizio e fine stringa -- genera le stringhe:\n",
    "- `s_A1: A-CGT`\n",
    "- `s_A2: AC-GT`\n",
    "- `s_A3: ACG-T`\n",
    "\n",
    "Ora possiamo simulare un inserimento in `s_A`, e l'effetto sulla edit distance sfruttando la nostra visualizzazione tabellare.\n",
    "Abbiamo quindi le stringhe\n",
    "\n",
    "|  `i`  | 0   | 1   | 2   | 3   | 4   |\n",
    "| ----- | --- | --- | --- | --- | --- |\n",
    "| `s_A` | A   | C   | G   | T   |     |\n",
    "| `s_A1` | A   | -   | C   | G   | T    |\n",
    "| `s_A2` | A   | C   | -   | G   | T    |\n",
    "| `s_A3` | A   | C   | G   | -   | T    |\n",
    "\n",
    "Con la simulazione di tutti i possibili inserimenti, la edit distance diventa\n",
    "\n",
    "**`s_A` con `s_B`**\n",
    "|  `i`  | 0   | 1   | 2   | 3   | 4   |\n",
    "| ----- | --- | --- | --- | --- | --- |\n",
    "| `s_A` | A   | C   | G   | T   |     |\n",
    "| `s_B` | A   | A   | C   | G   | T   |\n",
    "| `d`   | 0   | 1   | 1   | 1   | 1   |\n",
    "\n",
    "\n",
    "**`s_A1` con `s_B`**\n",
    "|  `i`  | 0   | 1   | 2   | 3   | 4   |\n",
    "| ----- | --- | --- | --- | --- | --- |\n",
    "| `s_A1` | A   | -   | C   | G   | T    |\n",
    "| `s_B` | A   | A   | C   | G   | T   |\n",
    "| `d`   | 0   | 1   | 0   | 0   | 0   |\n",
    "\n",
    "\n",
    "**`s_A2` con `s_B`**\n",
    "|  `i`  | 0   | 1   | 2   | 3   | 4   |\n",
    "| ----- | --- | --- | --- | --- | --- |\n",
    "| `s_A2` | A   | C   | -   | G   | T    |\n",
    "| `s_B` | A   | A   | C   | G   | T   |\n",
    "| `d`   | 0   | 1   | 1   | 0   | 0   |\n",
    "\n",
    "\n",
    "**`s_A3` con `s_B`**\n",
    "|  `i`  | 0   | 1   | 2   | 3   | 4   |\n",
    "| ----- | --- | --- | --- | --- | --- |\n",
    "| `s_A3` | A   | C   | G   | -   | T    |\n",
    "| `s_B` | A   | A   | C   | G   | T   |\n",
    "| `d`   | 0   | 1   | 1   | 1   | 0   |\n",
    "\n",
    "Poiche' questo match crea allineamenti tra colonne diverse, e' detto *oblique* match.\n",
    "\n",
    "L'allineamento diventa ora banale: proviamo tutti i possibili inserimenti, e consideriamo quello che genera una distanza minima!\n",
    "\n",
    "#### Intuizione algoritmo\n",
    "\n",
    "L'algoritmo tratta il problema in due fasi:\n",
    "1. calcolo delle distanze tra `s_A`, `s_B` secondo tutti i possibili inserimenti/cancellazioni\n",
    "2. ricerca degli inserimenti/cancellazioni che danno la distanza minore\n",
    "\n",
    "In altre parole,\n",
    "1. enumerazione di tutte le possibili soluzioni\n",
    "2. ricerca della soluzione a costo minimo\n",
    "\n",
    "### Ricerca\n",
    "La ricerca segue un passo induttivo, ed e' costruita in modo iterativo.\n",
    "A ogni iterazione, trova la soluzione ottima\n",
    "\n",
    "### Distance matrix\n",
    "Le distanze tra le varie coppie sono descritte mediante una matrice in cui in posizione `i, j` troviamo la distanza **ottimale** tra lettere in posizione `i` e `j`.\n",
    "Possiamo definire queste distanze in una matrice.\n",
    "\n",
    "### Ricerca\n",
    "Una volta definita la distanza minima tra tutte le coppie, la ricerca e' triviale: partendo dall'ultimo carattere, possiamo andare a ritroso fino alla coppia `(1, 1)`.\n"
   ]
  },
  {
   "cell_type": "markdown",
   "id": "3d620424-5b50-48a0-9dc6-e9b251eb53d1",
   "metadata": {},
   "source": [
    "La matrice di distanze e' implementata sotto."
   ]
  },
  {
   "cell_type": "code",
   "execution_count": 8,
   "id": "88867ae2-e5f8-4eab-8130-98c6b88a4dd0",
   "metadata": {},
   "outputs": [
    {
     "name": "stdout",
     "output_type": "stream",
     "text": [
      "[[0 1 2 3 4 5]\n",
      " [1 1 2 3 4 5]\n",
      " [2 1 2 3 4 5]\n",
      " [3 2 1 2 3 4]\n",
      " [4 3 2 1 2 3]]\n"
     ]
    }
   ],
   "source": [
    "# 1.0\n",
    "import numpy\n",
    "\n",
    "\n",
    "def edit_distance_matrix(s_A: str, s_B: str) -> numpy.array:\n",
    "    length_A, length_B = len(s_A), len(s_B)\n",
    "    distance_matrix = numpy.full(fill_value=numpy.nan, shape=(length_A + 1, length_B + 1))\n",
    "    distance_matrix[:, 0] = numpy.arange(distance_matrix.shape[0])\n",
    "    distance_matrix[0, :] = numpy.arange(distance_matrix.shape[1])\n",
    "    \n",
    "    for row in range(1, distance_matrix.shape[0]):\n",
    "        for column in range(1, distance_matrix.shape[1]):\n",
    "            exact_match_distance = 1 if s_A[row - 1] != s_B[column - 1] else 0\n",
    "            distance_matrix[row, column] = min(\n",
    "                distance_matrix[row, column - 1] + 1,\n",
    "                distance_matrix[row - 1, column] + 1,\n",
    "                distance_matrix[row - 1, column - 1] + exact_match_distance\n",
    "            )\n",
    "    \n",
    "    return distance_matrix.astype(int)\n",
    "\n",
    "s_A = \"albe\"\n",
    "s_B = \"lbero\"\n",
    "\n",
    "print(edit_distance_matrix(s_A, s_B))"
   ]
  },
  {
   "cell_type": "markdown",
   "id": "bc86bfb9-3c96-44ad-9e58-544c9856d211",
   "metadata": {},
   "source": [
    "Nella cella sopra, prova a modificare `s_A` e `s_B` (righe 22, 23), inserendo altre stringhe che:\n",
    "- producano zeri nella diagonale (posizioni `(1, 1), (2, 2), ...`) della matrice\n",
    "- non produca nessun zero nella diagonale della matrice\n",
    "- non produca nessun zeri in nessuna posizione della matrice"
   ]
  },
  {
   "cell_type": "markdown",
   "id": "af0e252e-2e63-4b1d-b2da-62d070e6fd92",
   "metadata": {},
   "source": [
    "---\n",
    "\n",
    "### Bonus: `Python`\n",
    "\n",
    "Nelle celle sopra trovi diversi dei costrutti principali di Python:\n",
    "- valori: come in algebra, sono i valori base, e.g., numeri interi (`100, 1, 2`), numeri reali (`0.2, 0.1`), stringhe (`\"Hello, Python\", \"Full search\"`), liste di valori (`[0.1, 0.1, 0.2, 0.1]`)\n",
    "- espressioni: combinano valori e/o variabili diversi in un unico valore, e.g., `0.1 + 0.1` risulta in `0.2`, `1 > 0` risulta in `vero`. La combinazione avviene mediante operatori, e.g., `+`, `-`, `/`\n",
    "- variabili: salvano dei valori, dando loro dei nomi, e.g., `weights`. Il salvataggio avviene con l'operatore `=`\n",
    "- funzioni: creano piccoli programmi parametrizzati che possiamo riutilizzare, anche con parametri diversi, e.g., `compare_weights`, `tree_search`. Sono definite in righe che iniziano con `def`, e poi utilizzate con il loro nome, e i parametri tra parentesi, e.g., `print(\"Hello, Python!\")`. Solitamente calcolano un qualche valore sulla base dei parametri, e.g., dato il raggio come parametro, calcolano la circonferenza di un cerchio. In questo caso il valore calcolato viene preceduto da un `return`\n",
    "- commenti: iniziano con un `#`, non fanno nulla, ma possiamo utilizzarli per spiegare cosa stiamo facendo nel codice\n",
    "- moduli: impacchettano funzioni che svolgono calcoli affini tra loro, e.g., tutte le funzioni che calcolano varie statistiche su un genoma. Un modulo viene incluso nel codice con un comando `import`\n",
    "\n",
    "\n",
    "Nei blocchi precedenti, prova a trovare tutti i valori, moduli, e tutte le variabili e funzioni."
   ]
  }
 ],
 "metadata": {
  "kernelspec": {
   "display_name": "Python 3 (ipykernel)",
   "language": "python",
   "name": "python3"
  },
  "language_info": {
   "codemirror_mode": {
    "name": "ipython",
    "version": 3
   },
   "file_extension": ".py",
   "mimetype": "text/x-python",
   "name": "python",
   "nbconvert_exporter": "python",
   "pygments_lexer": "ipython3",
   "version": "3.13.1"
  }
 },
 "nbformat": 4,
 "nbformat_minor": 5
}
