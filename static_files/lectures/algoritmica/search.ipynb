{
 "cells": [
  {
   "cell_type": "markdown",
   "id": "24494d06-22a4-4919-99cd-87e0dcafecec",
   "metadata": {},
   "source": [
    "# Notebooks\n",
    "\n",
    "Questi notebook sono un misto di blocchi detti *celle*. Una cella contiene di testo (come questa) o codice Python (come il blocco sotto). Per eseguire un blocco di codice puoi:\n",
    "- selezionarlo e premere il bottone Play (al suo fianco, o nella barra in alto)\n",
    "- selezionarlo e premere `Ctrl + Enter`\n",
    "\n",
    "Prova con il blocco qui sotto! Se stampa \"Welcome to Python!\""
   ]
  },
  {
   "cell_type": "code",
   "execution_count": null,
   "id": "86610f85-c8f5-44f6-9234-94e09f264ee1",
   "metadata": {},
   "outputs": [],
   "source": [
    "# 0.0\n",
    "print(\"Welcome to Python!\")"
   ]
  },
  {
   "cell_type": "markdown",
   "id": "2d83e832-2df5-48f0-8a3e-06d7477e4244",
   "metadata": {},
   "source": [
    "Una volta eseguito, dovresti trovare la scritta `Welcome to Python!` subito sotto il blocco. Ora al suo fianco dovresti trovare anche un numero che indica l'ordine in cui hai eseguito quel blocco di codice. Se ora provi a ri-eseguirlo, vedrai che il numero a suo fianco cambiera'!\n",
    "Prova a sostituire il testo tra `\"` aggiungendo il tuo nome, e ri-esegui. Vedrai che la stringa stampata si aggiorna!\n",
    "\n",
    "\n",
    "Nelle celle successive non e' necessario comprendere il codice Python scritto (lo tratteremo durante il corso), ma cerca di seguire il notebook per familiarizzarti con il codice, e a modificare un pochino per vedere come si comporta. Dal menu' visualizza abilita i numeri di righe, li usiamo per indicare parti specifiche del codice. A inizio blocco troverai anche dei numeri, e.g.,\n",
    "\n",
    "```#1.0```\n",
    "\n",
    "Li useremo per far riferimento a blocchi specifici. Il blocco sopra e' il blocco `0.0`\n",
    "\n",
    "---"
   ]
  },
  {
   "cell_type": "markdown",
   "id": "8782c5ba-895a-453d-948e-154eb179d9f7",
   "metadata": {},
   "source": [
    "# Ricerca massimo\n",
    "\n",
    "La ricerca del massimo in un insieme e' triviale:\n",
    "1. inizializza il massimo `maximum` a un valore, e.g., $-\\infty$\n",
    "3. estrai un elemento dall'insieme\n",
    "4. se e' maggiore di `maximum`, allora aggiorna `maximum`\n",
    "5. se hai ancora elementi, torna al passo `2`\n",
    "6. altrimenti restituisci `maximum`\n",
    "\n",
    "Il blocco di codice sotto implementa questo algoritmo."
   ]
  },
  {
   "cell_type": "code",
   "execution_count": null,
   "id": "cbdebb78-9df1-45b4-be86-0e7b8ffa6259",
   "metadata": {},
   "outputs": [],
   "source": [
    "# 2.0\n",
    "elements = [10, 2, 1, 3, 4, 12, 5]\n",
    "maximum = elements[0]\n",
    "for element in elements:\n",
    "    if element > maximum:\n",
    "        maximum = element\n",
    "\n",
    "print(maximum)"
   ]
  },
  {
   "cell_type": "markdown",
   "id": "2602eb95-82b9-438c-be43-641ba0ab0dff",
   "metadata": {},
   "source": [
    "Nel blocco:\n",
    "- prova a ritrovare tutti gli step che abbiamo dettagliato nell'algoritmo: a che istruzione corrisponde ogni step? Riesci a rimapparli tutti?\n",
    "- prova a modificare la lista di numeri `elements`, sostituendo alcuni elementi con altri: il programma continua a funzionare?\n",
    "- nella riga `3`, sostituisci `elements[0]` con `elements[1]`: ora il programma inizializza il massimo con il secondo elemento, anziche' il primo. Il programma continua a funzionare?\n",
    "- nella riga `3`, sostituisci `elements[0]` con un tuo numero a piacimento: riesci a inserirne uno che *non* faccia funzionare correttamente il programma?"
   ]
  },
  {
   "cell_type": "markdown",
   "id": "5b009e45-3683-47df-970f-373fba8b95de",
   "metadata": {},
   "source": [
    "# Ricerca binaria in un insieme ordinato\n",
    "\n",
    "Spostandoci su ricerca di un elemento `k` in un insieme di valori dati, abbiamo un algoritmo simile.\n",
    "\n",
    "1. Se l'insieme non ha ulteriori elementi, termina l'algoritmo\n",
    "2. Estrai un elemento `x` dall'insieme\n",
    "3. Se `x` e' uguale a `k`, termina l'algoritmo\n",
    "4. Se `x` e' uguale a `k`, torna allo step `1`\n",
    "\n",
    "Il blocco di codice sotto implementa questo algoritmo.\n",
    "A ogni confronto stampa `\"Confronto...\"`."
   ]
  },
  {
   "cell_type": "code",
   "execution_count": null,
   "id": "cff32fa2-d46b-432e-8b10-d2f62593cc0d",
   "metadata": {},
   "outputs": [],
   "source": [
    "# 2.1\n",
    "elements = [10, 2, 1, 3, 4, 12, 5]\n",
    "to_search = 5\n",
    "for element in elements:\n",
    "    print(\"\\tConfronto...\")\n",
    "    if element == to_search:\n",
    "        print(\"Trovato!\")\n",
    "        break\n",
    "    else:\n",
    "        continue"
   ]
  },
  {
   "cell_type": "markdown",
   "id": "78bd2620-e859-47c6-ba4d-b8874f5cec17",
   "metadata": {},
   "source": [
    "Nel blocco:\n",
    "- prova a ritrovare tutti gli step che abbiamo dettagliato nell'algoritmo: a che istruzione corrisponde ogni step? Riesci a rimapparli tutti?\n",
    "- prova a modificare la lista di numeri `elements`, sostituendo alcuni elementi con altri: il programma continua a funzionare?\n",
    "- prova a modificare l'elemento che cerchi `to_search`, sostituendolo con elementi non nell'insieme: il programma continua a funzionare?\n",
    "- aggiungi altri elementi all'insieme: come si comporta il numero di confronti?\n",
    "- ripeti il passo precedente, ma modificando anche `to_search`, dandogli come valore l'ultimo elemento dell'insieme. Come si comporta il numero di confronti?"
   ]
  },
  {
   "cell_type": "markdown",
   "id": "5fd4b61b-af1e-4de3-998f-75cbaf56f475",
   "metadata": {},
   "source": [
    "Nel caso pessimo, l'algoritmo cerca necessariamente in tutto l'insieme, dato che l'elemento puo' trovarsi in una posizione qualsiasi, e non puo' quindi escludere posizioni a prescindere.\n",
    "Spesso pero' ci ritroviamo ad avere insiemi *ordinati*.\n",
    "In questo caso, possiamo fare una semplice osservazione: se un elemento in posizione `i` e' maggiore di un dato valore, allora lo sono anche tutti gli elementi in posizione `i + 1, i + 2, ...`.\n",
    "Nella ricerca, possiamo sfruttare questa osservazione: se l'elemento che cerchiamo e' minore dell'elemento in posizione `i`, allora e' minore anche di tutti gli elementi in posizione `i + 1, i + 2, ...`.\n",
    "Pertanto, possiamo escludere tutte quelle posizioni dalla ricerca!\n",
    "L'algoritmo, detto di *ricerca binaria* che sfrutta questa osservazione, e'\n",
    "\n",
    "1. Se l'insieme considerato ha un elemento...\n",
    "2. se e' `k` termina con successo\n",
    "3. altrimenti termina con fallimento.\n",
    "4. Se invece ci sono piu' elementi\n",
    "5. Trova l'elemento di mezzo dell'insieme...\n",
    "6. se uguale a `k`, termina con successo\n",
    "7. se minore di `k`, allora `k` si trova nella meta' superiore! Torna al passo `1`, ma considerando solo la seconda meta' dell'insieme\n",
    "8. se maggiore di `k`, allora `k` si trova nella meta' inferiore! Torna al passo `1`, ma considerando solo la prima meta' dell'insieme\n",
    "\n",
    "\n",
    "Il blocco sotto implementa la ricerca binaria.\n",
    "Prima genera un insieme casuale `elements` di dimensione 10, poi lo stampa, e per finire ne cerca un elemento (l'ultimo, indicato con `elements[-1]`).\n",
    "A ogni confronto, stampa `\"Confronto...\"` e a termine algoritmo stampa successo o fallimento."
   ]
  },
  {
   "cell_type": "code",
   "execution_count": null,
   "id": "84a70d9c-6bbf-4955-a5c3-f4c55b8a477f",
   "metadata": {},
   "outputs": [],
   "source": [
    "# 2.2\n",
    "import random\n",
    "\n",
    "\n",
    "elements = sorted([random.randint(0, 100) for _ in range(10)])\n",
    "\n",
    "def search(elements: list, k: int):\n",
    "    if len(elements) == 1:\n",
    "        if elements[0] == k:\n",
    "            print(\"Trovato!\")\n",
    "            return\n",
    "        else:\n",
    "            print(\"Non trovato :(\")\n",
    "            return\n",
    "\n",
    "    median = math.ceil(len(elements) / 2)\n",
    "    print(\"\\tConfronto...\")\n",
    "    if elements[median] == k:\n",
    "        print(\"Trovato!\")\n",
    "        return\n",
    "\n",
    "    elif elements[median] < k:\n",
    "        return search(elements[:median], k)\n",
    "\n",
    "    elif elements[median] > k:\n",
    "        return search(elements[median:], k)\n",
    "\n",
    "print(elements)\n",
    "search(elements, elements[-1])"
   ]
  },
  {
   "cell_type": "markdown",
   "id": "91958bd0-9e2d-4e3a-8c69-9a64a149fdab",
   "metadata": {},
   "source": [
    "Nel blocco:\n",
    "- aumenta il numero di elementi: sostituisci `10` nella riga `5` con `25`, poi `50`, poi `100`, poi `1000`, etc. Come si comporta il numero confronti?\n",
    "- sostituisci l'elemento cercato: nella riga `29`, al posto di `-1` inserisci un numero qualsiasi tra `0` e il numero di elementi dell'insieme meno 1. Come si comporta il numero confronti?\n",
    "- Esegui nuovamente il blocco sottostante (ricerca non binaria). Come si comporta il numero di confronti rispetto alla ricerca binaria?"
   ]
  },
  {
   "cell_type": "code",
   "execution_count": null,
   "id": "4a652b57-1bd1-4e8f-80ee-28d221e2de2d",
   "metadata": {},
   "outputs": [],
   "source": [
    "# 2.3\n",
    "elements = sorted([random.randint(0, 100) for _ in range(10)])\n",
    "print(elements)\n",
    "\n",
    "for element in elements:\n",
    "    print(\"\\tConfronto...\")\n",
    "    if element == to_search:\n",
    "        print(\"Trovato!\")\n",
    "        break\n",
    "    else:\n",
    "        continue"
   ]
  },
  {
   "cell_type": "markdown",
   "id": "f8d71dd0-614b-4b0a-bf65-c6f25481f214",
   "metadata": {},
   "source": [
    "---\n",
    "\n",
    "### Bonus: `Python`\n",
    "\n",
    "Nelle celle sopra trovi diversi dei costrutti principali di Python:\n",
    "- valori: come in algebra, sono i valori base, e.g., numeri interi (`100, 1, 2`), numeri reali (`0.2, 0.1`), stringhe (`\"Hello, Python\", \"Trovato!\"`), liste di valori (`[0.1, 0.1, 0.2, 0.1]`)\n",
    "- espressioni: combinano valori e/o variabili diversi in un unico valore, e.g., `0.1 + 0.1` risulta in `0.2`, `1 > 0` risulta in `vero`. La combinazione avviene mediante operatori, e.g., `+`, `-`, `/`\n",
    "- variabili: salvano dei valori, dando loro dei nomi, e.g., `k`, `elements`. L'assegnamento di valori a variabili avviene con l'operatore `=`\n",
    "- funzioni: definiscono creano piccoli programmi parametrizzati che possiamo riutilizzare, anche con parametri diversi, e.g., `sorted`, `range`. Sono definite in righe che iniziano con `def`, e poi utilizzate con il loro nome, e i parametri tra parentesi, e.g., `print(\"Hello, Python!\")`. Solitamente calcolano un qualche valore sulla base dei parametri, e.g., dato il raggio come parametro, calcolano la circonferenza di un cerchio. In questo caso il valore calcolato viene preceduto da un `return`\n",
    "- commenti: iniziano con un `#`, non fanno nulla, ma possiamo utilizzarli per spiegare cosa stiamo facendo nel codice\n",
    "- moduli: impacchettano funzioni che svolgono calcoli affini tra loro, e.g., tutte le funzioni che calcolano varie statistiche su un genoma. Un modulo viene incluso nel codice con un comando `import`, e.g., `import random`\n",
    "\n",
    "\n",
    "Nei blocchi precedenti, prova a trovare tutti i valori, e tutte le variabili e funzioni."
   ]
  }
 ],
 "metadata": {
  "kernelspec": {
   "display_name": "Python 3 (ipykernel)",
   "language": "python",
   "name": "python3"
  },
  "language_info": {
   "codemirror_mode": {
    "name": "ipython",
    "version": 3
   },
   "file_extension": ".py",
   "mimetype": "text/x-python",
   "name": "python",
   "nbconvert_exporter": "python",
   "pygments_lexer": "ipython3",
   "version": "3.13.1"
  }
 },
 "nbformat": 4,
 "nbformat_minor": 5
}
